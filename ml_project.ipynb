{
 "cells": [
  {
   "cell_type": "markdown",
   "metadata": {},
   "source": [
    "# Packages nécessaires"
   ]
  },
  {
   "cell_type": "code",
   "execution_count": 2,
   "metadata": {},
   "outputs": [],
   "source": [
    "import pandas as pd\n",
    "import numpy as np\n",
    "import chardet\n",
    "import matplotlib.pyplot as plt\n",
    "import seaborn as sns\n",
    "from sklearn.model_selection import train_test_split # split  data into training and testing sets\n",
    "from sklearn.metrics import confusion_matrix # this creates a confusion matrix\n",
    "from sklearn.model_selection import KFold, StratifiedKFold\n",
    "from scipy import stats\n",
    "\n",
    "import warnings\n",
    "warnings.filterwarnings('ignore')"
   ]
  },
  {
   "cell_type": "markdown",
   "metadata": {},
   "source": [
    "# Importation et visualisation des données"
   ]
  },
  {
   "cell_type": "markdown",
   "metadata": {},
   "source": [
    "Dans cette partie, nous allons visualiser les données afin de détecter une possible incohérence."
   ]
  },
  {
   "cell_type": "code",
   "execution_count": 3,
   "metadata": {},
   "outputs": [
    {
     "name": "stdout",
     "output_type": "stream",
     "text": [
      "ascii\n"
     ]
    }
   ],
   "source": [
    "# L'encodage des données\n",
    "\n",
    "with open('Train.csv', 'rb') as f:\n",
    "    result = chardet.detect(f.read())\n",
    "print(result['encoding'])"
   ]
  },
  {
   "cell_type": "code",
   "execution_count": 4,
   "metadata": {},
   "outputs": [],
   "source": [
    "# Import des données\n",
    "\n",
    "data = pd.read_csv('Train.csv', delimiter = \",\",decimal = \".\", encoding = result['encoding'])"
   ]
  },
  {
   "cell_type": "code",
   "execution_count": 5,
   "metadata": {},
   "outputs": [
    {
     "data": {
      "text/html": [
       "<div>\n",
       "<style scoped>\n",
       "    .dataframe tbody tr th:only-of-type {\n",
       "        vertical-align: middle;\n",
       "    }\n",
       "\n",
       "    .dataframe tbody tr th {\n",
       "        vertical-align: top;\n",
       "    }\n",
       "\n",
       "    .dataframe thead th {\n",
       "        text-align: right;\n",
       "    }\n",
       "</style>\n",
       "<table border=\"1\" class=\"dataframe\">\n",
       "  <thead>\n",
       "    <tr style=\"text-align: right;\">\n",
       "      <th></th>\n",
       "      <th>X1</th>\n",
       "      <th>X2</th>\n",
       "      <th>X3</th>\n",
       "      <th>X4</th>\n",
       "      <th>X5</th>\n",
       "      <th>X6</th>\n",
       "      <th>X7</th>\n",
       "      <th>X8</th>\n",
       "      <th>X9</th>\n",
       "      <th>X10</th>\n",
       "      <th>...</th>\n",
       "      <th>X30</th>\n",
       "      <th>X31</th>\n",
       "      <th>X32</th>\n",
       "      <th>X33</th>\n",
       "      <th>X34</th>\n",
       "      <th>X35</th>\n",
       "      <th>X36</th>\n",
       "      <th>X37</th>\n",
       "      <th>X38</th>\n",
       "      <th>Y</th>\n",
       "    </tr>\n",
       "  </thead>\n",
       "  <tbody>\n",
       "    <tr>\n",
       "      <th>0</th>\n",
       "      <td>634995</td>\n",
       "      <td>0</td>\n",
       "      <td>463</td>\n",
       "      <td>Source1</td>\n",
       "      <td>0</td>\n",
       "      <td>806</td>\n",
       "      <td>11.291045</td>\n",
       "      <td>1.0</td>\n",
       "      <td>70.495138</td>\n",
       "      <td>0</td>\n",
       "      <td>...</td>\n",
       "      <td>1</td>\n",
       "      <td>0</td>\n",
       "      <td>1</td>\n",
       "      <td>1</td>\n",
       "      <td>-1</td>\n",
       "      <td>165</td>\n",
       "      <td>2</td>\n",
       "      <td>24</td>\n",
       "      <td>Friday</td>\n",
       "      <td>0</td>\n",
       "    </tr>\n",
       "    <tr>\n",
       "      <th>1</th>\n",
       "      <td>3995273</td>\n",
       "      <td>0</td>\n",
       "      <td>297147</td>\n",
       "      <td>Source4</td>\n",
       "      <td>43</td>\n",
       "      <td>2007</td>\n",
       "      <td>603.141026</td>\n",
       "      <td>494.5</td>\n",
       "      <td>424.681501</td>\n",
       "      <td>1</td>\n",
       "      <td>...</td>\n",
       "      <td>474</td>\n",
       "      <td>143</td>\n",
       "      <td>331</td>\n",
       "      <td>459</td>\n",
       "      <td>-188</td>\n",
       "      <td>14</td>\n",
       "      <td>324</td>\n",
       "      <td>24</td>\n",
       "      <td>Saturday</td>\n",
       "      <td>31</td>\n",
       "    </tr>\n",
       "    <tr>\n",
       "      <th>2</th>\n",
       "      <td>3995273</td>\n",
       "      <td>0</td>\n",
       "      <td>297147</td>\n",
       "      <td>Source4</td>\n",
       "      <td>43</td>\n",
       "      <td>2007</td>\n",
       "      <td>603.141026</td>\n",
       "      <td>494.5</td>\n",
       "      <td>424.681501</td>\n",
       "      <td>1</td>\n",
       "      <td>...</td>\n",
       "      <td>1033</td>\n",
       "      <td>285</td>\n",
       "      <td>748</td>\n",
       "      <td>943</td>\n",
       "      <td>-463</td>\n",
       "      <td>20</td>\n",
       "      <td>153</td>\n",
       "      <td>24</td>\n",
       "      <td>Monday</td>\n",
       "      <td>55</td>\n",
       "    </tr>\n",
       "    <tr>\n",
       "      <th>3</th>\n",
       "      <td>3995273</td>\n",
       "      <td>0</td>\n",
       "      <td>297147</td>\n",
       "      <td>Source4</td>\n",
       "      <td>43</td>\n",
       "      <td>2007</td>\n",
       "      <td>603.141026</td>\n",
       "      <td>494.5</td>\n",
       "      <td>424.681501</td>\n",
       "      <td>1</td>\n",
       "      <td>...</td>\n",
       "      <td>1521</td>\n",
       "      <td>536</td>\n",
       "      <td>985</td>\n",
       "      <td>1437</td>\n",
       "      <td>-449</td>\n",
       "      <td>28</td>\n",
       "      <td>506</td>\n",
       "      <td>24</td>\n",
       "      <td>Friday</td>\n",
       "      <td>161</td>\n",
       "    </tr>\n",
       "    <tr>\n",
       "      <th>4</th>\n",
       "      <td>3995273</td>\n",
       "      <td>0</td>\n",
       "      <td>297147</td>\n",
       "      <td>Source4</td>\n",
       "      <td>43</td>\n",
       "      <td>2007</td>\n",
       "      <td>603.141026</td>\n",
       "      <td>494.5</td>\n",
       "      <td>424.681501</td>\n",
       "      <td>1</td>\n",
       "      <td>...</td>\n",
       "      <td>271</td>\n",
       "      <td>2</td>\n",
       "      <td>50</td>\n",
       "      <td>259</td>\n",
       "      <td>-48</td>\n",
       "      <td>53</td>\n",
       "      <td>105</td>\n",
       "      <td>24</td>\n",
       "      <td>Saturday</td>\n",
       "      <td>3</td>\n",
       "    </tr>\n",
       "  </tbody>\n",
       "</table>\n",
       "<p>5 rows × 39 columns</p>\n",
       "</div>"
      ],
      "text/plain": [
       "        X1  X2      X3       X4  X5    X6          X7     X8          X9  X10  \\\n",
       "0   634995   0     463  Source1   0   806   11.291045    1.0   70.495138    0   \n",
       "1  3995273   0  297147  Source4  43  2007  603.141026  494.5  424.681501    1   \n",
       "2  3995273   0  297147  Source4  43  2007  603.141026  494.5  424.681501    1   \n",
       "3  3995273   0  297147  Source4  43  2007  603.141026  494.5  424.681501    1   \n",
       "4  3995273   0  297147  Source4  43  2007  603.141026  494.5  424.681501    1   \n",
       "\n",
       "   ...   X30  X31  X32   X33  X34  X35  X36  X37       X38    Y  \n",
       "0  ...     1    0    1     1   -1  165    2   24    Friday    0  \n",
       "1  ...   474  143  331   459 -188   14  324   24  Saturday   31  \n",
       "2  ...  1033  285  748   943 -463   20  153   24    Monday   55  \n",
       "3  ...  1521  536  985  1437 -449   28  506   24    Friday  161  \n",
       "4  ...   271    2   50   259  -48   53  105   24  Saturday    3  \n",
       "\n",
       "[5 rows x 39 columns]"
      ]
     },
     "execution_count": 5,
     "metadata": {},
     "output_type": "execute_result"
    }
   ],
   "source": [
    "data.head()"
   ]
  },
  {
   "cell_type": "code",
   "execution_count": 6,
   "metadata": {},
   "outputs": [
    {
     "data": {
      "text/html": [
       "<div>\n",
       "<style scoped>\n",
       "    .dataframe tbody tr th:only-of-type {\n",
       "        vertical-align: middle;\n",
       "    }\n",
       "\n",
       "    .dataframe tbody tr th {\n",
       "        vertical-align: top;\n",
       "    }\n",
       "\n",
       "    .dataframe thead th {\n",
       "        text-align: right;\n",
       "    }\n",
       "</style>\n",
       "<table border=\"1\" class=\"dataframe\">\n",
       "  <thead>\n",
       "    <tr style=\"text-align: right;\">\n",
       "      <th></th>\n",
       "      <th>X1</th>\n",
       "      <th>X2</th>\n",
       "      <th>X3</th>\n",
       "      <th>X4</th>\n",
       "      <th>X5</th>\n",
       "      <th>X6</th>\n",
       "      <th>X7</th>\n",
       "      <th>X8</th>\n",
       "      <th>X9</th>\n",
       "      <th>X10</th>\n",
       "      <th>...</th>\n",
       "      <th>X30</th>\n",
       "      <th>X31</th>\n",
       "      <th>X32</th>\n",
       "      <th>X33</th>\n",
       "      <th>X34</th>\n",
       "      <th>X35</th>\n",
       "      <th>X36</th>\n",
       "      <th>X37</th>\n",
       "      <th>X38</th>\n",
       "      <th>Y</th>\n",
       "    </tr>\n",
       "  </thead>\n",
       "  <tbody>\n",
       "    <tr>\n",
       "      <th>2086</th>\n",
       "      <td>309914</td>\n",
       "      <td>13</td>\n",
       "      <td>5432</td>\n",
       "      <td>Source26</td>\n",
       "      <td>0</td>\n",
       "      <td>375</td>\n",
       "      <td>8.594262</td>\n",
       "      <td>4.0</td>\n",
       "      <td>25.369146</td>\n",
       "      <td>0</td>\n",
       "      <td>...</td>\n",
       "      <td>9</td>\n",
       "      <td>5</td>\n",
       "      <td>4</td>\n",
       "      <td>9</td>\n",
       "      <td>1</td>\n",
       "      <td>481</td>\n",
       "      <td>116</td>\n",
       "      <td>24</td>\n",
       "      <td>Tuesday</td>\n",
       "      <td>2</td>\n",
       "    </tr>\n",
       "    <tr>\n",
       "      <th>2087</th>\n",
       "      <td>309914</td>\n",
       "      <td>13</td>\n",
       "      <td>5432</td>\n",
       "      <td>Source26</td>\n",
       "      <td>0</td>\n",
       "      <td>375</td>\n",
       "      <td>8.594262</td>\n",
       "      <td>4.0</td>\n",
       "      <td>25.369146</td>\n",
       "      <td>0</td>\n",
       "      <td>...</td>\n",
       "      <td>10</td>\n",
       "      <td>0</td>\n",
       "      <td>2</td>\n",
       "      <td>10</td>\n",
       "      <td>-2</td>\n",
       "      <td>270</td>\n",
       "      <td>365</td>\n",
       "      <td>24</td>\n",
       "      <td>Wednesday</td>\n",
       "      <td>0</td>\n",
       "    </tr>\n",
       "    <tr>\n",
       "      <th>2088</th>\n",
       "      <td>309914</td>\n",
       "      <td>13</td>\n",
       "      <td>5432</td>\n",
       "      <td>Source26</td>\n",
       "      <td>0</td>\n",
       "      <td>375</td>\n",
       "      <td>8.594262</td>\n",
       "      <td>4.0</td>\n",
       "      <td>25.369146</td>\n",
       "      <td>0</td>\n",
       "      <td>...</td>\n",
       "      <td>14</td>\n",
       "      <td>0</td>\n",
       "      <td>1</td>\n",
       "      <td>13</td>\n",
       "      <td>-1</td>\n",
       "      <td>179</td>\n",
       "      <td>101</td>\n",
       "      <td>24</td>\n",
       "      <td>Friday</td>\n",
       "      <td>0</td>\n",
       "    </tr>\n",
       "    <tr>\n",
       "      <th>2089</th>\n",
       "      <td>309914</td>\n",
       "      <td>13</td>\n",
       "      <td>5432</td>\n",
       "      <td>Source26</td>\n",
       "      <td>0</td>\n",
       "      <td>375</td>\n",
       "      <td>8.594262</td>\n",
       "      <td>4.0</td>\n",
       "      <td>25.369146</td>\n",
       "      <td>0</td>\n",
       "      <td>...</td>\n",
       "      <td>78</td>\n",
       "      <td>78</td>\n",
       "      <td>0</td>\n",
       "      <td>78</td>\n",
       "      <td>78</td>\n",
       "      <td>121</td>\n",
       "      <td>1232</td>\n",
       "      <td>24</td>\n",
       "      <td>Thursday</td>\n",
       "      <td>12</td>\n",
       "    </tr>\n",
       "    <tr>\n",
       "      <th>2090</th>\n",
       "      <td>7170111</td>\n",
       "      <td>70</td>\n",
       "      <td>497000</td>\n",
       "      <td>Source9</td>\n",
       "      <td>0</td>\n",
       "      <td>1881</td>\n",
       "      <td>497.200000</td>\n",
       "      <td>269.0</td>\n",
       "      <td>502.318385</td>\n",
       "      <td>0</td>\n",
       "      <td>...</td>\n",
       "      <td>118</td>\n",
       "      <td>16</td>\n",
       "      <td>102</td>\n",
       "      <td>117</td>\n",
       "      <td>-86</td>\n",
       "      <td>118</td>\n",
       "      <td>257</td>\n",
       "      <td>24</td>\n",
       "      <td>Saturday</td>\n",
       "      <td>9</td>\n",
       "    </tr>\n",
       "  </tbody>\n",
       "</table>\n",
       "<p>5 rows × 39 columns</p>\n",
       "</div>"
      ],
      "text/plain": [
       "           X1  X2      X3        X4  X5    X6          X7     X8          X9  \\\n",
       "2086   309914  13    5432  Source26   0   375    8.594262    4.0   25.369146   \n",
       "2087   309914  13    5432  Source26   0   375    8.594262    4.0   25.369146   \n",
       "2088   309914  13    5432  Source26   0   375    8.594262    4.0   25.369146   \n",
       "2089   309914  13    5432  Source26   0   375    8.594262    4.0   25.369146   \n",
       "2090  7170111  70  497000   Source9   0  1881  497.200000  269.0  502.318385   \n",
       "\n",
       "      X10  ...  X30  X31  X32  X33  X34  X35   X36  X37        X38   Y  \n",
       "2086    0  ...    9    5    4    9    1  481   116   24    Tuesday   2  \n",
       "2087    0  ...   10    0    2   10   -2  270   365   24  Wednesday   0  \n",
       "2088    0  ...   14    0    1   13   -1  179   101   24     Friday   0  \n",
       "2089    0  ...   78   78    0   78   78  121  1232   24   Thursday  12  \n",
       "2090    0  ...  118   16  102  117  -86  118   257   24   Saturday   9  \n",
       "\n",
       "[5 rows x 39 columns]"
      ]
     },
     "execution_count": 6,
     "metadata": {},
     "output_type": "execute_result"
    }
   ],
   "source": [
    "data.tail()"
   ]
  },
  {
   "cell_type": "markdown",
   "metadata": {},
   "source": [
    "# Prétraitement des données"
   ]
  },
  {
   "cell_type": "markdown",
   "metadata": {},
   "source": [
    "Il s'agit d'abord d'identifier les comportements des variables dans le but de corriger toute incohérence. Ensuite, nous allons faire la séparation des données (une base d'apprentissage et une base test) et enfin faire une standardisation."
   ]
  },
  {
   "cell_type": "code",
   "execution_count": 7,
   "metadata": {},
   "outputs": [
    {
     "data": {
      "text/plain": [
       "X1       int64\n",
       "X2       int64\n",
       "X3       int64\n",
       "X4      object\n",
       "X5       int64\n",
       "X6       int64\n",
       "X7     float64\n",
       "X8     float64\n",
       "X9     float64\n",
       "X10      int64\n",
       "X11      int64\n",
       "X12    float64\n",
       "X13    float64\n",
       "X14    float64\n",
       "X15      int64\n",
       "X16      int64\n",
       "X17    float64\n",
       "X18    float64\n",
       "X19    float64\n",
       "X20      int64\n",
       "X21      int64\n",
       "X22    float64\n",
       "X23    float64\n",
       "X24    float64\n",
       "X25      int64\n",
       "X26      int64\n",
       "X27    float64\n",
       "X28    float64\n",
       "X29    float64\n",
       "X30      int64\n",
       "X31      int64\n",
       "X32      int64\n",
       "X33      int64\n",
       "X34      int64\n",
       "X35      int64\n",
       "X36      int64\n",
       "X37      int64\n",
       "X38     object\n",
       "Y        int64\n",
       "dtype: object"
      ]
     },
     "execution_count": 7,
     "metadata": {},
     "output_type": "execute_result"
    }
   ],
   "source": [
    "# types des données\n",
    "data.dtypes"
   ]
  },
  {
   "cell_type": "code",
   "execution_count": 8,
   "metadata": {},
   "outputs": [
    {
     "data": {
      "text/html": [
       "<div>\n",
       "<style scoped>\n",
       "    .dataframe tbody tr th:only-of-type {\n",
       "        vertical-align: middle;\n",
       "    }\n",
       "\n",
       "    .dataframe tbody tr th {\n",
       "        vertical-align: top;\n",
       "    }\n",
       "\n",
       "    .dataframe thead th {\n",
       "        text-align: right;\n",
       "    }\n",
       "</style>\n",
       "<table border=\"1\" class=\"dataframe\">\n",
       "  <thead>\n",
       "    <tr style=\"text-align: right;\">\n",
       "      <th></th>\n",
       "      <th>X1</th>\n",
       "      <th>X2</th>\n",
       "      <th>X3</th>\n",
       "      <th>X4</th>\n",
       "      <th>X5</th>\n",
       "      <th>X6</th>\n",
       "      <th>X7</th>\n",
       "      <th>X8</th>\n",
       "      <th>X9</th>\n",
       "      <th>X10</th>\n",
       "      <th>...</th>\n",
       "      <th>X30</th>\n",
       "      <th>X31</th>\n",
       "      <th>X32</th>\n",
       "      <th>X33</th>\n",
       "      <th>X34</th>\n",
       "      <th>X35</th>\n",
       "      <th>X36</th>\n",
       "      <th>X37</th>\n",
       "      <th>X38</th>\n",
       "      <th>Y</th>\n",
       "    </tr>\n",
       "  </thead>\n",
       "  <tbody>\n",
       "    <tr>\n",
       "      <th>count</th>\n",
       "      <td>2.091000e+03</td>\n",
       "      <td>2091.000000</td>\n",
       "      <td>2.091000e+03</td>\n",
       "      <td>2091</td>\n",
       "      <td>2091.000000</td>\n",
       "      <td>2091.000000</td>\n",
       "      <td>2091.000000</td>\n",
       "      <td>2091.000000</td>\n",
       "      <td>2091.000000</td>\n",
       "      <td>2091.000000</td>\n",
       "      <td>...</td>\n",
       "      <td>2091.000000</td>\n",
       "      <td>2091.000000</td>\n",
       "      <td>2091.000000</td>\n",
       "      <td>2091.000000</td>\n",
       "      <td>2091.000000</td>\n",
       "      <td>2091.000000</td>\n",
       "      <td>2091.000000</td>\n",
       "      <td>2091.000000</td>\n",
       "      <td>2091</td>\n",
       "      <td>2091.000000</td>\n",
       "    </tr>\n",
       "    <tr>\n",
       "      <th>unique</th>\n",
       "      <td>NaN</td>\n",
       "      <td>NaN</td>\n",
       "      <td>NaN</td>\n",
       "      <td>81</td>\n",
       "      <td>NaN</td>\n",
       "      <td>NaN</td>\n",
       "      <td>NaN</td>\n",
       "      <td>NaN</td>\n",
       "      <td>NaN</td>\n",
       "      <td>NaN</td>\n",
       "      <td>...</td>\n",
       "      <td>NaN</td>\n",
       "      <td>NaN</td>\n",
       "      <td>NaN</td>\n",
       "      <td>NaN</td>\n",
       "      <td>NaN</td>\n",
       "      <td>NaN</td>\n",
       "      <td>NaN</td>\n",
       "      <td>NaN</td>\n",
       "      <td>7</td>\n",
       "      <td>NaN</td>\n",
       "    </tr>\n",
       "    <tr>\n",
       "      <th>top</th>\n",
       "      <td>NaN</td>\n",
       "      <td>NaN</td>\n",
       "      <td>NaN</td>\n",
       "      <td>Source9</td>\n",
       "      <td>NaN</td>\n",
       "      <td>NaN</td>\n",
       "      <td>NaN</td>\n",
       "      <td>NaN</td>\n",
       "      <td>NaN</td>\n",
       "      <td>NaN</td>\n",
       "      <td>...</td>\n",
       "      <td>NaN</td>\n",
       "      <td>NaN</td>\n",
       "      <td>NaN</td>\n",
       "      <td>NaN</td>\n",
       "      <td>NaN</td>\n",
       "      <td>NaN</td>\n",
       "      <td>NaN</td>\n",
       "      <td>NaN</td>\n",
       "      <td>Wednesday</td>\n",
       "      <td>NaN</td>\n",
       "    </tr>\n",
       "    <tr>\n",
       "      <th>freq</th>\n",
       "      <td>NaN</td>\n",
       "      <td>NaN</td>\n",
       "      <td>NaN</td>\n",
       "      <td>375</td>\n",
       "      <td>NaN</td>\n",
       "      <td>NaN</td>\n",
       "      <td>NaN</td>\n",
       "      <td>NaN</td>\n",
       "      <td>NaN</td>\n",
       "      <td>NaN</td>\n",
       "      <td>...</td>\n",
       "      <td>NaN</td>\n",
       "      <td>NaN</td>\n",
       "      <td>NaN</td>\n",
       "      <td>NaN</td>\n",
       "      <td>NaN</td>\n",
       "      <td>NaN</td>\n",
       "      <td>NaN</td>\n",
       "      <td>NaN</td>\n",
       "      <td>332</td>\n",
       "      <td>NaN</td>\n",
       "    </tr>\n",
       "    <tr>\n",
       "      <th>mean</th>\n",
       "      <td>1.338578e+06</td>\n",
       "      <td>4724.142037</td>\n",
       "      <td>4.353213e+04</td>\n",
       "      <td>NaN</td>\n",
       "      <td>1.534194</td>\n",
       "      <td>426.801052</td>\n",
       "      <td>53.980480</td>\n",
       "      <td>34.461980</td>\n",
       "      <td>65.535745</td>\n",
       "      <td>0.124821</td>\n",
       "      <td>...</td>\n",
       "      <td>56.077953</td>\n",
       "      <td>22.146820</td>\n",
       "      <td>19.737446</td>\n",
       "      <td>53.336681</td>\n",
       "      <td>2.409374</td>\n",
       "      <td>154.323769</td>\n",
       "      <td>100.660450</td>\n",
       "      <td>23.802487</td>\n",
       "      <td>NaN</td>\n",
       "      <td>6.628886</td>\n",
       "    </tr>\n",
       "    <tr>\n",
       "      <th>std</th>\n",
       "      <td>5.609903e+06</td>\n",
       "      <td>20834.845060</td>\n",
       "      <td>1.013512e+05</td>\n",
       "      <td>NaN</td>\n",
       "      <td>15.171970</td>\n",
       "      <td>485.761621</td>\n",
       "      <td>89.635225</td>\n",
       "      <td>75.111462</td>\n",
       "      <td>81.391700</td>\n",
       "      <td>1.995500</td>\n",
       "      <td>...</td>\n",
       "      <td>146.315515</td>\n",
       "      <td>78.433734</td>\n",
       "      <td>74.359481</td>\n",
       "      <td>137.743925</td>\n",
       "      <td>94.820757</td>\n",
       "      <td>284.071296</td>\n",
       "      <td>356.378075</td>\n",
       "      <td>1.725883</td>\n",
       "      <td>NaN</td>\n",
       "      <td>27.080052</td>\n",
       "    </tr>\n",
       "    <tr>\n",
       "      <th>min</th>\n",
       "      <td>1.390000e+02</td>\n",
       "      <td>0.000000</td>\n",
       "      <td>0.000000e+00</td>\n",
       "      <td>NaN</td>\n",
       "      <td>0.000000</td>\n",
       "      <td>0.000000</td>\n",
       "      <td>0.000000</td>\n",
       "      <td>0.000000</td>\n",
       "      <td>0.000000</td>\n",
       "      <td>0.000000</td>\n",
       "      <td>...</td>\n",
       "      <td>0.000000</td>\n",
       "      <td>0.000000</td>\n",
       "      <td>0.000000</td>\n",
       "      <td>0.000000</td>\n",
       "      <td>-1277.000000</td>\n",
       "      <td>0.000000</td>\n",
       "      <td>1.000000</td>\n",
       "      <td>1.000000</td>\n",
       "      <td>NaN</td>\n",
       "      <td>0.000000</td>\n",
       "    </tr>\n",
       "    <tr>\n",
       "      <th>25%</th>\n",
       "      <td>2.714700e+04</td>\n",
       "      <td>0.000000</td>\n",
       "      <td>6.010000e+02</td>\n",
       "      <td>NaN</td>\n",
       "      <td>0.000000</td>\n",
       "      <td>44.000000</td>\n",
       "      <td>5.153846</td>\n",
       "      <td>2.000000</td>\n",
       "      <td>7.431251</td>\n",
       "      <td>0.000000</td>\n",
       "      <td>...</td>\n",
       "      <td>2.000000</td>\n",
       "      <td>0.000000</td>\n",
       "      <td>0.000000</td>\n",
       "      <td>2.000000</td>\n",
       "      <td>-5.000000</td>\n",
       "      <td>36.000000</td>\n",
       "      <td>2.000000</td>\n",
       "      <td>24.000000</td>\n",
       "      <td>NaN</td>\n",
       "      <td>0.000000</td>\n",
       "    </tr>\n",
       "    <tr>\n",
       "      <th>50%</th>\n",
       "      <td>2.694810e+05</td>\n",
       "      <td>0.000000</td>\n",
       "      <td>5.954000e+03</td>\n",
       "      <td>NaN</td>\n",
       "      <td>0.000000</td>\n",
       "      <td>214.000000</td>\n",
       "      <td>22.729730</td>\n",
       "      <td>11.000000</td>\n",
       "      <td>30.640356</td>\n",
       "      <td>0.000000</td>\n",
       "      <td>...</td>\n",
       "      <td>10.000000</td>\n",
       "      <td>2.000000</td>\n",
       "      <td>0.000000</td>\n",
       "      <td>10.000000</td>\n",
       "      <td>0.000000</td>\n",
       "      <td>96.000000</td>\n",
       "      <td>13.000000</td>\n",
       "      <td>24.000000</td>\n",
       "      <td>NaN</td>\n",
       "      <td>0.000000</td>\n",
       "    </tr>\n",
       "    <tr>\n",
       "      <th>75%</th>\n",
       "      <td>1.199903e+06</td>\n",
       "      <td>99.000000</td>\n",
       "      <td>4.828800e+04</td>\n",
       "      <td>NaN</td>\n",
       "      <td>0.000000</td>\n",
       "      <td>707.000000</td>\n",
       "      <td>65.810811</td>\n",
       "      <td>39.000000</td>\n",
       "      <td>94.548658</td>\n",
       "      <td>0.000000</td>\n",
       "      <td>...</td>\n",
       "      <td>44.000000</td>\n",
       "      <td>11.000000</td>\n",
       "      <td>7.000000</td>\n",
       "      <td>42.000000</td>\n",
       "      <td>3.000000</td>\n",
       "      <td>171.000000</td>\n",
       "      <td>60.000000</td>\n",
       "      <td>24.000000</td>\n",
       "      <td>NaN</td>\n",
       "      <td>3.000000</td>\n",
       "    </tr>\n",
       "    <tr>\n",
       "      <th>max</th>\n",
       "      <td>1.626244e+08</td>\n",
       "      <td>186370.000000</td>\n",
       "      <td>1.298007e+06</td>\n",
       "      <td>NaN</td>\n",
       "      <td>454.000000</td>\n",
       "      <td>2336.000000</td>\n",
       "      <td>1166.789474</td>\n",
       "      <td>1316.500000</td>\n",
       "      <td>665.614795</td>\n",
       "      <td>57.000000</td>\n",
       "      <td>...</td>\n",
       "      <td>1864.000000</td>\n",
       "      <td>1263.000000</td>\n",
       "      <td>1529.000000</td>\n",
       "      <td>1554.000000</td>\n",
       "      <td>1263.000000</td>\n",
       "      <td>4576.000000</td>\n",
       "      <td>7589.000000</td>\n",
       "      <td>24.000000</td>\n",
       "      <td>NaN</td>\n",
       "      <td>454.000000</td>\n",
       "    </tr>\n",
       "  </tbody>\n",
       "</table>\n",
       "<p>11 rows × 39 columns</p>\n",
       "</div>"
      ],
      "text/plain": [
       "                  X1             X2            X3       X4           X5  \\\n",
       "count   2.091000e+03    2091.000000  2.091000e+03     2091  2091.000000   \n",
       "unique           NaN            NaN           NaN       81          NaN   \n",
       "top              NaN            NaN           NaN  Source9          NaN   \n",
       "freq             NaN            NaN           NaN      375          NaN   \n",
       "mean    1.338578e+06    4724.142037  4.353213e+04      NaN     1.534194   \n",
       "std     5.609903e+06   20834.845060  1.013512e+05      NaN    15.171970   \n",
       "min     1.390000e+02       0.000000  0.000000e+00      NaN     0.000000   \n",
       "25%     2.714700e+04       0.000000  6.010000e+02      NaN     0.000000   \n",
       "50%     2.694810e+05       0.000000  5.954000e+03      NaN     0.000000   \n",
       "75%     1.199903e+06      99.000000  4.828800e+04      NaN     0.000000   \n",
       "max     1.626244e+08  186370.000000  1.298007e+06      NaN   454.000000   \n",
       "\n",
       "                 X6           X7           X8           X9          X10  ...  \\\n",
       "count   2091.000000  2091.000000  2091.000000  2091.000000  2091.000000  ...   \n",
       "unique          NaN          NaN          NaN          NaN          NaN  ...   \n",
       "top             NaN          NaN          NaN          NaN          NaN  ...   \n",
       "freq            NaN          NaN          NaN          NaN          NaN  ...   \n",
       "mean     426.801052    53.980480    34.461980    65.535745     0.124821  ...   \n",
       "std      485.761621    89.635225    75.111462    81.391700     1.995500  ...   \n",
       "min        0.000000     0.000000     0.000000     0.000000     0.000000  ...   \n",
       "25%       44.000000     5.153846     2.000000     7.431251     0.000000  ...   \n",
       "50%      214.000000    22.729730    11.000000    30.640356     0.000000  ...   \n",
       "75%      707.000000    65.810811    39.000000    94.548658     0.000000  ...   \n",
       "max     2336.000000  1166.789474  1316.500000   665.614795    57.000000  ...   \n",
       "\n",
       "                X30          X31          X32          X33          X34  \\\n",
       "count   2091.000000  2091.000000  2091.000000  2091.000000  2091.000000   \n",
       "unique          NaN          NaN          NaN          NaN          NaN   \n",
       "top             NaN          NaN          NaN          NaN          NaN   \n",
       "freq            NaN          NaN          NaN          NaN          NaN   \n",
       "mean      56.077953    22.146820    19.737446    53.336681     2.409374   \n",
       "std      146.315515    78.433734    74.359481   137.743925    94.820757   \n",
       "min        0.000000     0.000000     0.000000     0.000000 -1277.000000   \n",
       "25%        2.000000     0.000000     0.000000     2.000000    -5.000000   \n",
       "50%       10.000000     2.000000     0.000000    10.000000     0.000000   \n",
       "75%       44.000000    11.000000     7.000000    42.000000     3.000000   \n",
       "max     1864.000000  1263.000000  1529.000000  1554.000000  1263.000000   \n",
       "\n",
       "                X35          X36          X37        X38            Y  \n",
       "count   2091.000000  2091.000000  2091.000000       2091  2091.000000  \n",
       "unique          NaN          NaN          NaN          7          NaN  \n",
       "top             NaN          NaN          NaN  Wednesday          NaN  \n",
       "freq            NaN          NaN          NaN        332          NaN  \n",
       "mean     154.323769   100.660450    23.802487        NaN     6.628886  \n",
       "std      284.071296   356.378075     1.725883        NaN    27.080052  \n",
       "min        0.000000     1.000000     1.000000        NaN     0.000000  \n",
       "25%       36.000000     2.000000    24.000000        NaN     0.000000  \n",
       "50%       96.000000    13.000000    24.000000        NaN     0.000000  \n",
       "75%      171.000000    60.000000    24.000000        NaN     3.000000  \n",
       "max     4576.000000  7589.000000    24.000000        NaN   454.000000  \n",
       "\n",
       "[11 rows x 39 columns]"
      ]
     },
     "execution_count": 8,
     "metadata": {},
     "output_type": "execute_result"
    }
   ],
   "source": [
    " # Description des données\n",
    "data.describe(include = \"all\")"
   ]
  },
  {
   "cell_type": "code",
   "execution_count": 9,
   "metadata": {},
   "outputs": [
    {
     "data": {
      "text/plain": [
       "X1     474\n",
       "X2     134\n",
       "X3     400\n",
       "X4      81\n",
       "X5      31\n",
       "X6     305\n",
       "X7     459\n",
       "X8     158\n",
       "X9     469\n",
       "X10     11\n",
       "X11    261\n",
       "X12    439\n",
       "X13     80\n",
       "X14    451\n",
       "X15      3\n",
       "X16    260\n",
       "X17    444\n",
       "X18     68\n",
       "X19    455\n",
       "X20     31\n",
       "X21    301\n",
       "X22    456\n",
       "X23    152\n",
       "X24    466\n",
       "X25    236\n",
       "X26    257\n",
       "X27    438\n",
       "X28     58\n",
       "X29    464\n",
       "X30    299\n",
       "X31    183\n",
       "X32    170\n",
       "X33    284\n",
       "X34    314\n",
       "X35    453\n",
       "X36    363\n",
       "X37     22\n",
       "X38      7\n",
       "Y       96\n",
       "dtype: int64"
      ]
     },
     "execution_count": 9,
     "metadata": {},
     "output_type": "execute_result"
    }
   ],
   "source": [
    "# Nombre de valeur uniques de chaque variable\n",
    "data.nunique(axis = 0)"
   ]
  },
  {
   "cell_type": "markdown",
   "metadata": {},
   "source": [
    "Nous constatons qu'il y a deux variables catégorielles (X4 et X38). Or le but de ce projet est de prédire une variable quantitative. Donc, nous devons appliquer l'algorithme One Hot Encoder sur ces variables si nous décidons de les garder dans la suite de l'étude."
   ]
  },
  {
   "cell_type": "code",
   "execution_count": 10,
   "metadata": {},
   "outputs": [
    {
     "name": "stdout",
     "output_type": "stream",
     "text": [
      "           X1  X2      X3        X4  X5    X6          X7     X8          X9  \\\n",
      "0      634995   0     463   Source1   0   806   11.291045    1.0   70.495138   \n",
      "1     3995273   0  297147   Source4  43  2007  603.141026  494.5  424.681501   \n",
      "2     3995273   0  297147   Source4  43  2007  603.141026  494.5  424.681501   \n",
      "3     3995273   0  297147   Source4  43  2007  603.141026  494.5  424.681501   \n",
      "4     3995273   0  297147   Source4  43  2007  603.141026  494.5  424.681501   \n",
      "...       ...  ..     ...       ...  ..   ...         ...    ...         ...   \n",
      "2086   309914  13    5432  Source26   0   375    8.594262    4.0   25.369146   \n",
      "2087   309914  13    5432  Source26   0   375    8.594262    4.0   25.369146   \n",
      "2088   309914  13    5432  Source26   0   375    8.594262    4.0   25.369146   \n",
      "2089   309914  13    5432  Source26   0   375    8.594262    4.0   25.369146   \n",
      "2090  7170111  70  497000   Source9   0  1881  497.200000  269.0  502.318385   \n",
      "\n",
      "      X10  ...   78   79   80   81   82   83   84   85   86   87  \n",
      "0       0  ...  0.0  0.0  0.0  1.0  0.0  0.0  0.0  0.0  0.0  0.0  \n",
      "1       1  ...  0.0  0.0  0.0  0.0  0.0  1.0  0.0  0.0  0.0  0.0  \n",
      "2       1  ...  0.0  0.0  0.0  0.0  1.0  0.0  0.0  0.0  0.0  0.0  \n",
      "3       1  ...  0.0  0.0  0.0  1.0  0.0  0.0  0.0  0.0  0.0  0.0  \n",
      "4       1  ...  0.0  0.0  0.0  0.0  0.0  1.0  0.0  0.0  0.0  0.0  \n",
      "...   ...  ...  ...  ...  ...  ...  ...  ...  ...  ...  ...  ...  \n",
      "2086    0  ...  0.0  0.0  0.0  0.0  0.0  0.0  0.0  0.0  1.0  0.0  \n",
      "2087    0  ...  0.0  0.0  0.0  0.0  0.0  0.0  0.0  0.0  0.0  1.0  \n",
      "2088    0  ...  0.0  0.0  0.0  1.0  0.0  0.0  0.0  0.0  0.0  0.0  \n",
      "2089    0  ...  0.0  0.0  0.0  0.0  0.0  0.0  0.0  1.0  0.0  0.0  \n",
      "2090    0  ...  0.0  0.0  0.0  0.0  0.0  1.0  0.0  0.0  0.0  0.0  \n",
      "\n",
      "[2091 rows x 127 columns]\n"
     ]
    }
   ],
   "source": [
    "from sklearn.preprocessing import OneHotEncoder\n",
    "\n",
    "# #creating instance of one-hot-encoder\n",
    "encoder = OneHotEncoder(handle_unknown = 'ignore')\n",
    "\n",
    "# #perform one-hot encoding on 'team' column \n",
    "encoders = pd.DataFrame(encoder.fit_transform(data[['X4', 'X38']]).toarray())\n",
    "\n",
    "# #merge one-hot encoded columns back with original DataFrame\n",
    "final_data = data.join(encoders)\n",
    "\n",
    "# #view final df\n",
    "print(final_data)"
   ]
  },
  {
   "cell_type": "code",
   "execution_count": 11,
   "metadata": {},
   "outputs": [
    {
     "data": {
      "text/plain": [
       "Index([], dtype='object')"
      ]
     },
     "execution_count": 11,
     "metadata": {},
     "output_type": "execute_result"
    }
   ],
   "source": [
    "# Nombre de valeurs manquantes\n",
    "final_data.columns[(final_data.isna().sum() != 0)]"
   ]
  },
  {
   "cell_type": "code",
   "execution_count": 12,
   "metadata": {},
   "outputs": [
    {
     "data": {
      "text/plain": [
       "(5, 127)"
      ]
     },
     "execution_count": 12,
     "metadata": {},
     "output_type": "execute_result"
    }
   ],
   "source": [
    "# Observations dupliquées\n",
    "final_data[final_data.duplicated()].shape"
   ]
  },
  {
   "cell_type": "code",
   "execution_count": 13,
   "metadata": {},
   "outputs": [],
   "source": [
    "# Suppression des observations doubles\n",
    "data.drop_duplicates(inplace = True)"
   ]
  },
  {
   "cell_type": "code",
   "execution_count": 14,
   "metadata": {},
   "outputs": [
    {
     "data": {
      "image/png": "[encoded data removed]",
      "text/plain": [
       "<Figure size 1440x1080 with 42 Axes>"
      ]
     },
     "metadata": {
      "needs_background": "light"
     },
     "output_type": "display_data"
    }
   ],
   "source": [
    "%matplotlib inline\n",
    "\n",
    "data.hist(bins = 50, figsize = (20,15)) \n",
    "plt.show()"
   ]
  },
  {
   "cell_type": "code",
   "execution_count": 15,
   "metadata": {},
   "outputs": [
    {
     "data": {
      "text/plain": [
       "<AxesSubplot:xlabel='Y'>"
      ]
     },
     "execution_count": 15,
     "metadata": {},
     "output_type": "execute_result"
    },
    {
     "data": {
      "image/png": "[encoded data removed]",
      "text/plain": [
       "<Figure size 432x288 with 1 Axes>"
      ]
     },
     "metadata": {
      "needs_background": "light"
     },
     "output_type": "display_data"
    }
   ],
   "source": [
    "# Le box plot de la variable cible\n",
    "sns.boxplot(x = data['Y'])"
   ]
  },
  {
   "cell_type": "markdown",
   "metadata": {},
   "source": [
    "Nous remarquons une possible existence de valeurs aberrantes. Nous allons utiliser la statistique z-score pour confirmer\n",
    "ou nier ce soupçon."
   ]
  },
  {
   "cell_type": "code",
   "execution_count": 16,
   "metadata": {},
   "outputs": [
    {
     "name": "stdout",
     "output_type": "stream",
     "text": [
      "[0.24484707 0.90018086 1.78665409 ... 0.24484707 0.19838954 0.08758039]\n",
      "(array([   3,    5,    7,   16,   41,   65,   90,  155,  239,  254,  255,\n",
      "        395,  397,  407,  442,  545,  571,  591,  620,  663,  804,  867,\n",
      "       1041, 1102, 1134, 1226, 1533, 1674, 1686, 1742, 1746, 1803, 2023,\n",
      "       2043, 2067], dtype=int64),)\n"
     ]
    }
   ],
   "source": [
    "# Z score\n",
    "from scipy import stats\n",
    "\n",
    "z_scores = np.abs(stats.zscore(final_data['Y']))\n",
    "print(z_scores)\n",
    "\n",
    "threshold = 3\n",
    "\n",
    "# Position of the outliers\n",
    "outliers = np.where(z_scores > threshold)\n",
    "print(outliers)"
   ]
  },
  {
   "cell_type": "code",
   "execution_count": 17,
   "metadata": {},
   "outputs": [
    {
     "name": "stdout",
     "output_type": "stream",
     "text": [
      "Avant :  (2091, 127)\n",
      "Après :  (2056, 127)\n"
     ]
    }
   ],
   "source": [
    "print(\"Avant : \", final_data.shape)\n",
    "''' Suppression des outliers '''\n",
    "final_data.drop(outliers[0], inplace = True)\n",
    " \n",
    "print(\"Après : \", final_data.shape)"
   ]
  },
  {
   "cell_type": "code",
   "execution_count": 18,
   "metadata": {},
   "outputs": [
    {
     "name": "stdout",
     "output_type": "stream",
     "text": [
      "(1542, 124) (514, 124)\n"
     ]
    }
   ],
   "source": [
    "# Répartion des données\n",
    "seed = 12345\n",
    "\n",
    "kf = StratifiedKFold(n_splits = 10, shuffle = True, random_state = seed)\n",
    "\n",
    "Y = final_data[\"Y\"].copy()\n",
    "X = final_data.drop([\"Y\", 'X4', 'X38'], axis = 1).copy()\n",
    "X_train, X_test, Y_train, Y_test = train_test_split(X, Y, random_state = seed)\n",
    "X_train.shape\n",
    "X_test.shape\n",
    "print(X_train.shape, X_test.shape)"
   ]
  },
  {
   "cell_type": "code",
   "execution_count": 19,
   "metadata": {},
   "outputs": [],
   "source": [
    "listes = X_train.iloc[:, 0:36].columns.to_list()"
   ]
  },
  {
   "cell_type": "code",
   "execution_count": 22,
   "metadata": {},
   "outputs": [],
   "source": [
    "from sklearn.preprocessing import StandardScaler\n",
    "from sklearn.compose import ColumnTransformer\n",
    "\n",
    "# scaler_sd = StandardScaler()\n",
    "scaler_sd = ColumnTransformer([\n",
    "        ('scaler', StandardScaler(), listes)\n",
    "    ], remainder = 'passthrough')\n",
    "\n",
    "\n",
    "# Get scaling parameters with the train sample exclusively, using the Scaler.fit() function\n",
    "scaler_sd.fit(X_train)\n",
    "\n",
    "# Scale data using Scaler.transform()\n",
    "X_train_scaled = pd.DataFrame(scaler_sd.transform(X_train))\n",
    "X_test_scaled = pd.DataFrame(scaler_sd.transform(X_test))"
   ]
  },
  {
   "cell_type": "markdown",
   "metadata": {},
   "source": [
    "# Régression linéaire"
   ]
  },
  {
   "cell_type": "markdown",
   "metadata": {},
   "source": [
    "## Régression linéaire ordinaire"
   ]
  },
  {
   "cell_type": "code",
   "execution_count": 20,
   "metadata": {},
   "outputs": [],
   "source": [
    "from sklearn.linear_model import LinearRegression, RidgeCV, LassoCV, ElasticNet, ElasticNetCV\n",
    "from sklearn.metrics import mean_squared_error, r2_score, mean_absolute_error"
   ]
  },
  {
   "cell_type": "code",
   "execution_count": 21,
   "metadata": {},
   "outputs": [
    {
     "data": {
      "text/plain": [
       "[<matplotlib.lines.Line2D at 0x19f76d324f0>]"
      ]
     },
     "execution_count": 21,
     "metadata": {},
     "output_type": "execute_result"
    },
    {
     "data": {
      "image/png": "[encoded data removed]",
      "text/plain": [
       "<Figure size 432x288 with 1 Axes>"
      ]
     },
     "metadata": {
      "needs_background": "light"
     },
     "output_type": "display_data"
    }
   ],
   "source": [
    "# Régression linéaire simple\n",
    "\n",
    "lin_reg = LinearRegression().fit(X_train, Y_train)\n",
    "Y_pred_lin_reg = lin_reg.predict(X_test) \n",
    "lin_mae = mean_absolute_error(Y_test, Y_pred_lin_reg)\n",
    "plt.plot(lin_reg.coef_)"
   ]
  },
  {
   "cell_type": "code",
   "execution_count": 22,
   "metadata": {},
   "outputs": [
    {
     "name": "stdout",
     "output_type": "stream",
     "text": [
      "MAE = 3.579217970675169\n"
     ]
    }
   ],
   "source": [
    "print(f\"MAE = {lin_mae}\")"
   ]
  },
  {
   "cell_type": "markdown",
   "metadata": {},
   "source": [
    "__Conclusion__ : On remarque que certaines variables ont des coefficients presque nuls, ce qui pourrait signifier leur non significativité. Nous allons faire une réduction de dimensions pour ne retenir que les variables informatives."
   ]
  },
  {
   "cell_type": "markdown",
   "metadata": {},
   "source": [
    "## Régression linéaire sur les composantes principales"
   ]
  },
  {
   "cell_type": "code",
   "execution_count": 23,
   "metadata": {},
   "outputs": [],
   "source": [
    "from sklearn.decomposition import PCA\n",
    "\n",
    "pca = PCA()\n",
    "principalComponents = pca.fit_transform(X_train_scaled)\n",
    "principalDf = pd.DataFrame(data = principalComponents)"
   ]
  },
  {
   "cell_type": "code",
   "execution_count": 24,
   "metadata": {},
   "outputs": [
    {
     "data": {
      "text/plain": [
       "[<matplotlib.lines.Line2D at 0x19f76dbad60>]"
      ]
     },
     "execution_count": 24,
     "metadata": {},
     "output_type": "execute_result"
    },
    {
     "data": {
      "image/png": "[encoded data removed]",
      "text/plain": [
       "<Figure size 432x288 with 1 Axes>"
      ]
     },
     "metadata": {
      "needs_background": "light"
     },
     "output_type": "display_data"
    }
   ],
   "source": [
    "plt.plot(pca.explained_variance_ratio_)"
   ]
  },
  {
   "cell_type": "code",
   "execution_count": 25,
   "metadata": {},
   "outputs": [],
   "source": [
    "# Vu le graphe ci-dessous, nous pouvons nous limiter à 18 composantes\n",
    "\n",
    "pca = PCA(n_components = 18)\n",
    "X_train_pca = pca.fit_transform(X_train_scaled)\n",
    "X_test_pca = pca.transform(X_test_scaled)"
   ]
  },
  {
   "cell_type": "code",
   "execution_count": 26,
   "metadata": {},
   "outputs": [],
   "source": [
    "pls_reg = LinearRegression().fit(X_train_pca, Y_train)\n",
    "Y_pred_pls_reg = pls_reg.predict(X_test_pca)  \n",
    "pls_mae = mean_absolute_error(Y_test, Y_pred_pls_reg)"
   ]
  },
  {
   "cell_type": "code",
   "execution_count": 27,
   "metadata": {},
   "outputs": [
    {
     "data": {
      "text/plain": [
       "[<matplotlib.lines.Line2D at 0x19f76e1ce20>]"
      ]
     },
     "execution_count": 27,
     "metadata": {},
     "output_type": "execute_result"
    },
    {
     "data": {
      "image/png": "[encoded data removed]",
      "text/plain": [
       "<Figure size 432x288 with 1 Axes>"
      ]
     },
     "metadata": {
      "needs_background": "light"
     },
     "output_type": "display_data"
    }
   ],
   "source": [
    "plt.plot(pls_reg.coef_)"
   ]
  },
  {
   "cell_type": "code",
   "execution_count": 28,
   "metadata": {},
   "outputs": [
    {
     "name": "stdout",
     "output_type": "stream",
     "text": [
      "MAE = 3.239747210500504\n"
     ]
    }
   ],
   "source": [
    "print(f\"MAE = {pls_mae}\")"
   ]
  },
  {
   "cell_type": "markdown",
   "metadata": {},
   "source": [
    "__Conclusion__ : Nous pouvons remarquer que la MAE est plus faible que celle de la régression linéaire, ce qui confirme l'existence des variables non informatives ou corrélées entre elles. Nous allons faire maintenant une régression lasso, ridge et elastic net pour mieux sélectionner les variables."
   ]
  },
  {
   "cell_type": "markdown",
   "metadata": {},
   "source": [
    "## Lasso"
   ]
  },
  {
   "cell_type": "code",
   "execution_count": 23,
   "metadata": {},
   "outputs": [
    {
     "name": "stdout",
     "output_type": "stream",
     "text": [
      "0.5\n"
     ]
    }
   ],
   "source": [
    "lasso = LassoCV(alphas =  [.001,.01,.1,.2, .5, 1, 2, 5, 10, 20 , 50,100, 200, 500], cv = kf, random_state = seed)\n",
    "lasso.fit(X_train_scaled, Y_train)\n",
    "Y_pred_lasso = lasso.predict(X_test_scaled)  \n",
    "lasso_mae = mean_absolute_error(Y_test, Y_pred_lasso)\n",
    "print(lasso.alpha_)"
   ]
  },
  {
   "cell_type": "code",
   "execution_count": null,
   "metadata": {},
   "outputs": [],
   "source": [
    " print(f\"MAE = {lasso_mae}\")"
   ]
  },
  {
   "cell_type": "markdown",
   "metadata": {},
   "source": [
    "## LSLASSO"
   ]
  },
  {
   "cell_type": "code",
   "execution_count": 24,
   "metadata": {},
   "outputs": [
    {
     "name": "stdout",
     "output_type": "stream",
     "text": [
      "[0.06888655 0.65358717 0.26847798 0.13217742 0.21361406 5.26518701]\n"
     ]
    }
   ],
   "source": [
    "print(lasso.coef_[lasso.coef_ != 0])"
   ]
  },
  {
   "cell_type": "code",
   "execution_count": 32,
   "metadata": {},
   "outputs": [
    {
     "name": "stdout",
     "output_type": "stream",
     "text": [
      "Variables sélections avec Lasso 6 \n"
     ]
    }
   ],
   "source": [
    "print(\"Variables sélections avec Lasso %s \" % np.sum(lasso.coef_ > 0 ))"
   ]
  },
  {
   "cell_type": "code",
   "execution_count": 25,
   "metadata": {},
   "outputs": [],
   "source": [
    "indices_lasso = np.where(lasso.coef_ > 0)"
   ]
  },
  {
   "cell_type": "code",
   "execution_count": 26,
   "metadata": {},
   "outputs": [],
   "source": [
    "data_clean = X_train.iloc[:, indices_lasso[0]]"
   ]
  },
  {
   "cell_type": "code",
   "execution_count": 27,
   "metadata": {},
   "outputs": [],
   "source": [
    "vars_select_lasso = data_clean.columns.tolist()"
   ]
  },
  {
   "cell_type": "code",
   "execution_count": 36,
   "metadata": {},
   "outputs": [],
   "source": [
    "X_train_SelLasso = X_train.iloc[:, indices_lasso[0]]\n",
    "X_test_SelLasso = X_test.iloc[:, indices_lasso[0]]\n",
    "\n",
    "regr2Lasso = LinearRegression()\n",
    "regr2Lasso.fit(X_train_SelLasso, Y_train)\n",
    "\n",
    "Y_pred_regr2lasso = regr2Lasso.predict(X_test_SelLasso)  \n",
    "lslasso_mae = mean_absolute_error(Y_test, Y_pred_regr2lasso)"
   ]
  },
  {
   "cell_type": "code",
   "execution_count": 37,
   "metadata": {},
   "outputs": [
    {
     "name": "stdout",
     "output_type": "stream",
     "text": [
      "MAE = 3.1478588537458436\n"
     ]
    }
   ],
   "source": [
    " print(f\"MAE = {lslasso_mae}\")"
   ]
  },
  {
   "cell_type": "markdown",
   "metadata": {},
   "source": [
    "__Conclusion__ : On note une nette amélioration. Sur les six variables sélectionnées par la régression, la régression fait mieux que les modèles (lasso et regression linéaire). Cependant, la sélection est un peu sévère."
   ]
  },
  {
   "cell_type": "markdown",
   "metadata": {},
   "source": [
    "## Ridge"
   ]
  },
  {
   "cell_type": "code",
   "execution_count": 38,
   "metadata": {},
   "outputs": [
    {
     "name": "stdout",
     "output_type": "stream",
     "text": [
      "200.0\n"
     ]
    }
   ],
   "source": [
    "ridge = RidgeCV(alphas =  [.001,.01,.1,.2, .5, 1, 2, 5, 10, 20 , 50,100, 200, 500], cv = kf)\n",
    "ridge.fit(X_train_scaled, Y_train)\n",
    "print(ridge.alpha_)\n",
    "\n",
    "Y_pred_ridge = ridge.predict(X_test_scaled)  \n",
    "ridge_mae = mean_absolute_error(Y_test, Y_pred_ridge)"
   ]
  },
  {
   "cell_type": "code",
   "execution_count": 39,
   "metadata": {},
   "outputs": [
    {
     "name": "stdout",
     "output_type": "stream",
     "text": [
      "MAE = 3.3315324948159466\n"
     ]
    }
   ],
   "source": [
    " print(f\"MAE = {ridge_mae}\")"
   ]
  },
  {
   "cell_type": "markdown",
   "metadata": {},
   "source": [
    "## ElasticNet"
   ]
  },
  {
   "cell_type": "code",
   "execution_count": 28,
   "metadata": {},
   "outputs": [
    {
     "name": "stdout",
     "output_type": "stream",
     "text": [
      "0.2\n"
     ]
    }
   ],
   "source": [
    "elastic_net = ElasticNetCV(alphas =  [.001,.01,.1,.2, .5, 1, 2, 5, 10, 20 , 50,100, 200, 500],\n",
    "                           cv = kf, random_state = seed)\n",
    "elastic_net.fit(X_train_scaled, Y_train)\n",
    "print(elastic_net.alpha_)\n",
    "\n",
    "Y_pred_elastic_net = elastic_net.predict(X_test_scaled)  \n",
    "elastic_net_mae = mean_absolute_error(Y_test, Y_pred_elastic_net)"
   ]
  },
  {
   "cell_type": "code",
   "execution_count": 41,
   "metadata": {},
   "outputs": [
    {
     "name": "stdout",
     "output_type": "stream",
     "text": [
      "MAE = 3.3001977683682178\n"
     ]
    }
   ],
   "source": [
    " print(f\"MAE = {elastic_net_mae}\")"
   ]
  },
  {
   "cell_type": "code",
   "execution_count": 42,
   "metadata": {},
   "outputs": [
    {
     "name": "stdout",
     "output_type": "stream",
     "text": [
      "Selected variables with ElasticNet 22 \n"
     ]
    }
   ],
   "source": [
    "print(\"Selected variables with ElasticNet %s \" % np.sum(elastic_net.coef_ != 0 ))"
   ]
  },
  {
   "cell_type": "code",
   "execution_count": 29,
   "metadata": {},
   "outputs": [
    {
     "name": "stdout",
     "output_type": "stream",
     "text": [
      "[ 0.28203687  0.30684102 -0.25016517  0.3730803   0.18234843  0.32430276\n",
      "  0.58042436  0.43006594  0.3039035  -0.33523571  0.12347668  0.34678972\n",
      "  0.02141511 -0.10528482  0.06656712  4.39150217  0.63908815  0.91657806\n",
      " -0.05452322 -0.18680793  0.28413253  0.14165296]\n"
     ]
    }
   ],
   "source": [
    "print(elastic_net.coef_[elastic_net.coef_ != 0])"
   ]
  },
  {
   "cell_type": "code",
   "execution_count": 30,
   "metadata": {},
   "outputs": [],
   "source": [
    "indices_elasticnet = np.where(elastic_net.coef_ != 0)\n",
    "X_train_SelElas = X_train.iloc[:, indices_elasticnet[0]]\n",
    "X_test_SelElas = X_test.iloc[:, indices_elasticnet[0]]"
   ]
  },
  {
   "cell_type": "code",
   "execution_count": 31,
   "metadata": {},
   "outputs": [],
   "source": [
    "vars_select_elas = X_train_SelElas.columns.tolist()"
   ]
  },
  {
   "cell_type": "code",
   "execution_count": 46,
   "metadata": {},
   "outputs": [],
   "source": [
    "reg_eLastnet = LinearRegression()\n",
    "reg_eLastnet.fit(X_train_SelElas, Y_train)\n",
    "\n",
    "Y_pred_reg_elasnet = reg_eLastnet.predict(X_test_SelElas)  \n",
    "elasnets_mae = mean_absolute_error(Y_test, Y_pred_reg_elasnet)"
   ]
  },
  {
   "cell_type": "code",
   "execution_count": 47,
   "metadata": {},
   "outputs": [
    {
     "name": "stdout",
     "output_type": "stream",
     "text": [
      "MAE = 3.329429284508753\n"
     ]
    }
   ],
   "source": [
    " print(f\"MAE = {elasnets_mae}\")"
   ]
  },
  {
   "cell_type": "code",
   "execution_count": 48,
   "metadata": {},
   "outputs": [
    {
     "name": "stdout",
     "output_type": "stream",
     "text": [
      "MAE des modèles.\n",
      "\n",
      "ols            : 3.58\n",
      "pca_before_ols : 3.24\n",
      "lasso          : 3.24\n",
      "lslasso        : 3.15\n",
      "ridge          : 3.33\n",
      "elasticnet     : 3.30\n",
      "elastincet (2) : 3.33\n"
     ]
    }
   ],
   "source": [
    "print(\"MAE des modèles.\\n\")\n",
    "\n",
    "for method, error in zip([\"ols           \", \"pca_before_ols\", \"lasso         \", \"lslasso       \", \"ridge         \",\n",
    "                         \"elasticnet    \", \"elastincet (2)\"],\n",
    "                         [lin_mae, pls_mae, lasso_mae, lslasso_mae, ridge_mae, elastic_net_mae, elasnets_mae]):\n",
    "    print(method + \" : %.2f\" % error)"
   ]
  },
  {
   "cell_type": "code",
   "execution_count": 49,
   "metadata": {},
   "outputs": [
    {
     "name": "stdout",
     "output_type": "stream",
     "text": [
      "Les variables sélectionnées avec Lasso\n",
      "['X3', 'X7', 'X9', 'X13', 'X17', 'X31']\n",
      "Les variables sélectionnées avec ElasticNet\n",
      "['X2', 'X3', 'X5', 'X7', 'X8', 'X9', 'X13', 'X15', 'X17', 'X20', 'X22', 'X23', 'X24', 'X27', 'X28', 'X31', 'X32', 'X34', 'X35', 'X36', 'X37', 13]\n"
     ]
    }
   ],
   "source": [
    "print(\"Les variables sélectionnées avec Lasso\")\n",
    "print(vars_select_lasso)\n",
    "\n",
    "print(\"Les variables sélectionnées avec ElasticNet\")\n",
    "print(vars_select_elas)"
   ]
  },
  {
   "cell_type": "markdown",
   "metadata": {},
   "source": [
    "Nous constatons que le modèle ElasticNet retient plus variables que le modèle Lasso qui est sévère dans la sélection des varianles. Notons également toutes les variables sélectionnés avec Lasso sont aussi sélectionnés dans ElasticNet. Cependant ELasticNet a l'avantage de mieux contrôler le risque d'overfitting. Donc, nous allons retenir les variables retenues avec ELasticNet."
   ]
  },
  {
   "cell_type": "code",
   "execution_count": 34,
   "metadata": {},
   "outputs": [],
   "source": [
    "X_train_1 = X_train.iloc[:, indices_lasso[0]]\n",
    "X_test_1 = X_test.iloc[:, indices_lasso[0]]\n",
    "X_train_2 = X_train.iloc[:, indices_elasticnet[0]]\n",
    "X_test_2 = X_test.iloc[:, indices_elasticnet[0]]\n",
    "\n",
    "X_train_scaled_1 = X_train_scaled.iloc[:, indices_lasso[0]]\n",
    "X_test_scaled_1 = X_test_scaled.iloc[:, indices_lasso[0]]\n",
    "X_train_scaled_2 = X_train_scaled.iloc[:, indices_elasticnet[0]]\n",
    "X_test_scaled_2 = X_test_scaled.iloc[:, indices_elasticnet[0]]"
   ]
  },
  {
   "cell_type": "markdown",
   "metadata": {},
   "source": [
    "# Arbre de regression"
   ]
  },
  {
   "cell_type": "code",
   "execution_count": 82,
   "metadata": {},
   "outputs": [],
   "source": [
    "from sklearn.tree import DecisionTreeRegressor \n",
    "from sklearn import tree"
   ]
  },
  {
   "cell_type": "code",
   "execution_count": 83,
   "metadata": {},
   "outputs": [],
   "source": [
    "tree_reg = DecisionTreeRegressor(min_samples_leaf = 100) \n",
    "tree_reg.fit(X_train_2, Y_train)\n",
    "\n",
    "Y_pred_tree = tree_reg.predict(X_test_2) \n",
    "tree_mae = mean_absolute_error(Y_test, Y_pred_tree)"
   ]
  },
  {
   "cell_type": "code",
   "execution_count": 84,
   "metadata": {},
   "outputs": [
    {
     "name": "stdout",
     "output_type": "stream",
     "text": [
      "MAE = 2.8270130239656273\n"
     ]
    }
   ],
   "source": [
    "print(f\"MAE = {tree_mae}\")"
   ]
  },
  {
   "cell_type": "code",
   "execution_count": 85,
   "metadata": {},
   "outputs": [
    {
     "data": {
      "image/png": "[encoded data removed]",
      "text/plain": [
       "<Figure size 1500x1500 with 1 Axes>"
      ]
     },
     "metadata": {
      "needs_background": "light"
     },
     "output_type": "display_data"
    }
   ],
   "source": [
    "fig, axes = plt.subplots(nrows = 1,ncols = 1,figsize = (5,5), dpi=300)\n",
    "tree.plot_tree(tree_reg, filled=True)\n",
    "#tree.plot_tree(DTC)\n",
    "plt.show()"
   ]
  },
  {
   "cell_type": "markdown",
   "metadata": {},
   "source": [
    "# KNN"
   ]
  },
  {
   "cell_type": "code",
   "execution_count": 50,
   "metadata": {},
   "outputs": [],
   "source": [
    "from sklearn.neighbors import KNeighborsRegressor\n",
    "from sklearn.model_selection import GridSearchCV "
   ]
  },
  {
   "cell_type": "code",
   "execution_count": 87,
   "metadata": {},
   "outputs": [
    {
     "name": "stdout",
     "output_type": "stream",
     "text": [
      "{'metric': 'minkowski', 'n_neighbors': 50, 'weights': 'distance'}\n"
     ]
    }
   ],
   "source": [
    "param_grid = {\n",
    "    'n_neighbors' : [2, 4, 5, 6, 8, 10, 15, 20, 50, 100],\n",
    "    'weights' : [\"uniform\", \"distance\"],\n",
    "    'metric' : ['manhattan', 'minkowski']\n",
    "}\n",
    "\n",
    "optimal_params = GridSearchCV(\n",
    "        KNeighborsRegressor(),\n",
    "        param_grid,\n",
    "        cv = kf,\n",
    "        scoring = 'neg_mean_absolute_error',\n",
    "        n_jobs = -1,\n",
    "        verbose = 0 # NOTE: If you want to see what Grid Search is doing, set verbose=2\n",
    "    )\n",
    "\n",
    "optimal_params.fit(X_train_scaled_2, Y_train)\n",
    "print(optimal_params.best_params_)"
   ]
  },
  {
   "cell_type": "code",
   "execution_count": 88,
   "metadata": {},
   "outputs": [
    {
     "name": "stdout",
     "output_type": "stream",
     "text": [
      "MAE: 3.250362\n"
     ]
    }
   ],
   "source": [
    "neigh = KNeighborsRegressor(n_neighbors = 50, weights = 'distance', metric = \"minkowski\")\n",
    "\n",
    "neigh.fit(X_train_scaled_2, Y_train)\n",
    "\n",
    "Y_pred_neigh = neigh.predict(X_test_scaled_2)\n",
    "neigh_mae = mean_absolute_error(Y_test, Y_pred_neigh)\n",
    "print(\"MAE: %f\" % (neigh_mae))"
   ]
  },
  {
   "cell_type": "markdown",
   "metadata": {},
   "source": [
    "# Support vector machine - SVM"
   ]
  },
  {
   "cell_type": "code",
   "execution_count": 51,
   "metadata": {},
   "outputs": [],
   "source": [
    "from sklearn.svm import LinearSVR\n",
    "from sklearn.pipeline import Pipeline, make_pipeline"
   ]
  },
  {
   "cell_type": "code",
   "execution_count": 109,
   "metadata": {},
   "outputs": [],
   "source": [
    "# scaled_svm = Pipeline([\n",
    "#     (\"scaler\", StandardScaler()),\n",
    "#     (\"svm\", LinearSVR(random_state = seed))\n",
    "# ])"
   ]
  },
  {
   "cell_type": "code",
   "execution_count": 52,
   "metadata": {},
   "outputs": [
    {
     "name": "stdout",
     "output_type": "stream",
     "text": [
      "{'C': 1, 'epsilon': 0}\n"
     ]
    }
   ],
   "source": [
    "param_grid = [\n",
    "  {'C': [0.01, 0.1, 1, 10, 100, 1000, 2000], \n",
    "   'epsilon': [0, 0.1, 0.5, 1, 1.5, 2, 5, 10]},\n",
    " ]\n",
    "\n",
    "optimal_params = GridSearchCV(\n",
    "        LinearSVR(random_state = seed),\n",
    "        param_grid,\n",
    "        cv = kf,\n",
    "        scoring = 'neg_mean_absolute_error',\n",
    "        n_jobs = -1,\n",
    "        verbose = 0 # NOTE: If you want to see what Grid Search is doing, set verbose=2\n",
    "    )\n",
    "\n",
    "optimal_params.fit(X_train_scaled_1, Y_train)\n",
    "print(optimal_params.best_params_)"
   ]
  },
  {
   "cell_type": "code",
   "execution_count": 54,
   "metadata": {},
   "outputs": [],
   "source": [
    "svm_reg = LinearSVR(C = 1, epsilon = 0) \n",
    "svm_reg.fit(X_train_scaled_1, Y_train)\n",
    "\n",
    "Y_pred_SVR = svm_reg.predict(X_test_scaled_1) \n",
    "svm_reg_mae = mean_absolute_error(Y_test, Y_pred_SVR)"
   ]
  },
  {
   "cell_type": "code",
   "execution_count": 55,
   "metadata": {},
   "outputs": [
    {
     "name": "stdout",
     "output_type": "stream",
     "text": [
      "MAE = 2.4711145674990367\n"
     ]
    }
   ],
   "source": [
    "print(f\"MAE = {svm_reg_mae}\")"
   ]
  },
  {
   "cell_type": "code",
   "execution_count": 96,
   "metadata": {},
   "outputs": [
    {
     "name": "stdout",
     "output_type": "stream",
     "text": [
      "MAE des modèles.\n",
      "\n",
      "Arbre     : 2.83\n",
      "KNN       : 3.25\n",
      "LinearSVR : 2.47\n"
     ]
    }
   ],
   "source": [
    "print(\"MAE des modèles.\\n\")\n",
    "\n",
    "for method, error in zip([\"Arbre    \", \"KNN      \", \"LinearSVR\"],\n",
    "                         [tree_mae, neigh_mae, svm_reg_mae]):\n",
    "    print(method + \" : %.2f\" % error)"
   ]
  },
  {
   "cell_type": "markdown",
   "metadata": {},
   "source": [
    "# Bagging"
   ]
  },
  {
   "cell_type": "markdown",
   "metadata": {},
   "source": [
    "## Forêt aléatoire"
   ]
  },
  {
   "cell_type": "code",
   "execution_count": 100,
   "metadata": {},
   "outputs": [],
   "source": [
    "from sklearn.ensemble import RandomForestRegressor"
   ]
  },
  {
   "cell_type": "code",
   "execution_count": null,
   "metadata": {},
   "outputs": [],
   "source": [
    "tree = DecisionTreeRegressor(min_samples_leaf = 50, criterion = \"absolute_error\")\n",
    "RF = RandomForestRegressor(tree, \n",
    "                        random_state = seed)\n",
    "parameters = {'n_estimators' : [50, 100, 200],\n",
    "              'criterion' : [\"absolute_error\", \"mae\"],\n",
    "              'max_features' : [3, 4, 5, 6, 7, 8, 9, 10]}\n",
    "    \n",
    "optRF = GridSearchCV(RF, parameters, cv = kf, n_jobs = -1, scoring = 'neg_mean_absolute_error')\n",
    "\n",
    "optRF.fit(X_train_2, Y_train)\n",
    "Y_pred_RF = optRF.predict(X_test_2)\n",
    "RF_mae = mean_absolute_error(Y_test, Y_pred_RF)"
   ]
  },
  {
   "cell_type": "code",
   "execution_count": null,
   "metadata": {},
   "outputs": [],
   "source": [
    " print(f\"MAE = {RF_mae}\")"
   ]
  },
  {
   "cell_type": "code",
   "execution_count": 99,
   "metadata": {},
   "outputs": [],
   "source": [
    "from sklearn.ensemble import BaggingRegressor"
   ]
  },
  {
   "cell_type": "code",
   "execution_count": null,
   "metadata": {},
   "outputs": [],
   "source": [
    "tree = DecisionTreeRegressor(criterion = \"absolute_error\")\n",
    "bag = BaggingRegressor(tree, random_state = seed)\n",
    "parameters = {'n_estimators' : [10, 50, 100, 200],\n",
    "              'max_samples' : [0.2, 0.5, 0.8]}\n",
    "    \n",
    "optBagg = GridSearchCV(bag, parameters, cv = kf, n_jobs = -1, scoring = 'neg_mean_absolute_error')\n",
    "\n",
    "optBagg.fit(X_train, Y_train)\n",
    "Y_pred_Bagg = optBagg.predict(X_test)\n",
    "Bagg_mae = mean_absolute_error(Y_test, Y_pred_Bagg)"
   ]
  },
  {
   "cell_type": "code",
   "execution_count": null,
   "metadata": {},
   "outputs": [],
   "source": [
    "print(f\"MAE = {Bagg_mae}\")"
   ]
  },
  {
   "cell_type": "markdown",
   "metadata": {},
   "source": [
    "## Bagging avec LinearSVR"
   ]
  },
  {
   "cell_type": "code",
   "execution_count": null,
   "metadata": {},
   "outputs": [],
   "source": [
    "SVR = LinearSVR()\n",
    "bag = BaggingRegressor(SVR, random_state = seed)\n",
    "parameters = {'n_estimators' : [10, 50, 100, 200],\n",
    "              'max_samples' : [0.2, 0.5, 0.8]}\n",
    "    \n",
    "optBaggSVR = GridSearchCV(bag, parameters, cv = kf, n_jobs = -1, scoring = 'neg_mean_absolute_error')\n",
    "\n",
    "optBaggSVR.fit(X_train, Y_train)\n",
    "Y_pred_BaggSVR = optBaggSVR.predict(X_test)\n",
    "BaggSVR_mae = mean_absolute_error(Y_test, Y_pred_BaggSVR)"
   ]
  },
  {
   "cell_type": "code",
   "execution_count": null,
   "metadata": {},
   "outputs": [],
   "source": [
    "print(f\"MAE = {BaggSVR_mae}\")"
   ]
  },
  {
   "cell_type": "code",
   "execution_count": null,
   "metadata": {},
   "outputs": [],
   "source": [
    "print(\"MAE des modèles.\\n\")\n",
    "\n",
    "for method, error in zip([\"RF           \", \"RF (2)           \", \"BaggSVR         \"],\n",
    "                         [RF_mae, Bagg_mae, BaggSVR_mae]):\n",
    "    print(method + \" : %.2f\" % error)"
   ]
  },
  {
   "cell_type": "markdown",
   "metadata": {},
   "source": [
    "# Boosting"
   ]
  },
  {
   "cell_type": "markdown",
   "metadata": {},
   "source": [
    "## AdaBoost"
   ]
  },
  {
   "cell_type": "code",
   "execution_count": null,
   "metadata": {},
   "outputs": [],
   "source": [
    "from sklearn.ensemble import AdaBoostRegressor"
   ]
  },
  {
   "cell_type": "code",
   "execution_count": null,
   "metadata": {},
   "outputs": [],
   "source": [
    "params = {'n_estimators' : [10, 50, 100, 200],\n",
    "         'loss' : ['linear', 'square', 'exponential']}\n",
    "\n",
    "AdaBoost = AdaBoostRegressor()\n",
    "optAdaBoost = GridSearchCV(AdaBoost, params, cv = kf, n_jobs = -1, scoring = \"neg_mean_absolute_error\")\n",
    "optAdaBoost.fit(X_train_2, Y_train)\n",
    "\n",
    "Y_pred_AdaBoost = optAdaBoost.predict(X_test_2)\n",
    "optAdaBoost_mae = mean_absolute_error(Y_test, Y_pred_AdaBoost)"
   ]
  },
  {
   "cell_type": "code",
   "execution_count": null,
   "metadata": {},
   "outputs": [],
   "source": [
    "print(f\"MAE = {optAdaBoost_mae}\")"
   ]
  },
  {
   "cell_type": "markdown",
   "metadata": {},
   "source": [
    "## XGBoost"
   ]
  },
  {
   "cell_type": "code",
   "execution_count": null,
   "metadata": {},
   "outputs": [],
   "source": [
    "import xgboost as xgb\n",
    "from xgboost import XGBRegressor"
   ]
  },
  {
   "cell_type": "code",
   "execution_count": null,
   "metadata": {},
   "outputs": [],
   "source": [
    "param_grid = {'max_depth':[2, 3, 5, 10], 'gamma':[0, 0.5, 1], 'n_estimators':[10, 50, 100, 200], 'learning_rate':[0.01, 0.05, 0.1, 0.3]}\n",
    "\n",
    "optimal_params = GridSearchCV(\n",
    "        XGBRegressor(objective = 'reg:linear', seed = seed), \n",
    "        param_grid,\n",
    "        cv = 10, n_jobs = -1, scoring = 'neg_mean_absolute_error',\n",
    "        verbose = 0\n",
    "    )\n",
    "\n",
    "optimal_params.fit(X_train_Sel, Y_train)\n",
    "print(optimal_params.best_params_)"
   ]
  },
  {
   "cell_type": "code",
   "execution_count": null,
   "metadata": {},
   "outputs": [],
   "source": [
    "xg_reg = xgb.XGBRegressor(objective ='reg:linear', gamma = 1, learning_rate = 0.1,\n",
    "                max_depth = 2, n_estimators = 50)\n",
    "\n",
    "xg_reg.fit(X_train, Y_train)\n",
    "\n",
    "Y_pred_xgb = xg_reg.predict(X_test)\n",
    "xgb_mae = mean_absolute_error(Y_test, Y_pred_xgb)\n",
    "print(\"MAE: %f\" % (xgb_mae))"
   ]
  },
  {
   "cell_type": "code",
   "execution_count": null,
   "metadata": {},
   "outputs": [],
   "source": [
    "print(\"MAE des modèles.\\n\")\n",
    "\n",
    "for method, error in zip([\"AdaBoost\", \"XGBoost \"],\n",
    "                         [optAdaBoost_mae, xgb_mae]):\n",
    "    print(method + \" : %.2f\" % error)"
   ]
  },
  {
   "cell_type": "markdown",
   "metadata": {},
   "source": [
    "## Stacking"
   ]
  },
  {
   "cell_type": "code",
   "execution_count": null,
   "metadata": {},
   "outputs": [],
   "source": [
    "from sklearn.ensemble import StackingRegressor"
   ]
  },
  {
   "cell_type": "code",
   "execution_count": null,
   "metadata": {},
   "outputs": [],
   "source": [
    "estimators = [\n",
    "    ('lr', xg_reg),\n",
    "    ('rf', optBaggSVR),\n",
    "    ('svm', make_pipeline(StandardScaler(), svm_reg))]\n",
    "\n",
    "reg_stack = StackingRegressor(estimators = estimators, final_estimator = LinearRegression(),\n",
    "                              cv = 10, n_jobs = -1, verbose = 0)\n",
    "      \n",
    "reg_stack.fit(X_train_2, Y_train)"
   ]
  },
  {
   "cell_type": "code",
   "execution_count": null,
   "metadata": {},
   "outputs": [],
   "source": [
    "Y_pred_stack = reg_stack.predict(X_test_2)\n",
    "stack_mae = mean_absolute_error(Y_test, Y_pred_stack)\n",
    "print(\"MAE: %f\" % (stack_mae))"
   ]
  },
  {
   "cell_type": "markdown",
   "metadata": {},
   "source": [
    "__Conclusion finale__ : Nous allons utiliser le modèle LinearSVR pour la prédiction des données évaluations. En effet, ce dernier est plus simple que les modèles ensemblistes et donne une mae meilleure que les modèles."
   ]
  },
  {
   "cell_type": "markdown",
   "metadata": {},
   "source": [
    "# Importation et pré-traitement des données d'évaluation"
   ]
  },
  {
   "cell_type": "code",
   "execution_count": 56,
   "metadata": {},
   "outputs": [],
   "source": [
    "data_eval = pd.read_csv('TestForStudents.csv', delimiter = \",\",decimal = \".\", encoding = result['encoding'])"
   ]
  },
  {
   "cell_type": "code",
   "execution_count": 57,
   "metadata": {},
   "outputs": [
    {
     "data": {
      "text/html": [
       "<div>\n",
       "<style scoped>\n",
       "    .dataframe tbody tr th:only-of-type {\n",
       "        vertical-align: middle;\n",
       "    }\n",
       "\n",
       "    .dataframe tbody tr th {\n",
       "        vertical-align: top;\n",
       "    }\n",
       "\n",
       "    .dataframe thead th {\n",
       "        text-align: right;\n",
       "    }\n",
       "</style>\n",
       "<table border=\"1\" class=\"dataframe\">\n",
       "  <thead>\n",
       "    <tr style=\"text-align: right;\">\n",
       "      <th></th>\n",
       "      <th>X1</th>\n",
       "      <th>X2</th>\n",
       "      <th>X3</th>\n",
       "      <th>X4</th>\n",
       "      <th>X5</th>\n",
       "      <th>X6</th>\n",
       "      <th>X7</th>\n",
       "      <th>X8</th>\n",
       "      <th>X9</th>\n",
       "      <th>X10</th>\n",
       "      <th>...</th>\n",
       "      <th>X29</th>\n",
       "      <th>X30</th>\n",
       "      <th>X31</th>\n",
       "      <th>X32</th>\n",
       "      <th>X33</th>\n",
       "      <th>X34</th>\n",
       "      <th>X35</th>\n",
       "      <th>X36</th>\n",
       "      <th>X37</th>\n",
       "      <th>X38</th>\n",
       "    </tr>\n",
       "  </thead>\n",
       "  <tbody>\n",
       "    <tr>\n",
       "      <th>0</th>\n",
       "      <td>634995</td>\n",
       "      <td>0</td>\n",
       "      <td>463</td>\n",
       "      <td>Source1</td>\n",
       "      <td>0</td>\n",
       "      <td>806</td>\n",
       "      <td>11.291045</td>\n",
       "      <td>1.0</td>\n",
       "      <td>70.495138</td>\n",
       "      <td>0</td>\n",
       "      <td>...</td>\n",
       "      <td>69.850580</td>\n",
       "      <td>0</td>\n",
       "      <td>0</td>\n",
       "      <td>0</td>\n",
       "      <td>0</td>\n",
       "      <td>0</td>\n",
       "      <td>166</td>\n",
       "      <td>2</td>\n",
       "      <td>24</td>\n",
       "      <td>Wednesday</td>\n",
       "    </tr>\n",
       "    <tr>\n",
       "      <th>1</th>\n",
       "      <td>634995</td>\n",
       "      <td>0</td>\n",
       "      <td>463</td>\n",
       "      <td>Source1</td>\n",
       "      <td>0</td>\n",
       "      <td>806</td>\n",
       "      <td>11.291045</td>\n",
       "      <td>1.0</td>\n",
       "      <td>70.495138</td>\n",
       "      <td>0</td>\n",
       "      <td>...</td>\n",
       "      <td>69.850580</td>\n",
       "      <td>0</td>\n",
       "      <td>0</td>\n",
       "      <td>0</td>\n",
       "      <td>0</td>\n",
       "      <td>0</td>\n",
       "      <td>132</td>\n",
       "      <td>1</td>\n",
       "      <td>24</td>\n",
       "      <td>Thursday</td>\n",
       "    </tr>\n",
       "    <tr>\n",
       "      <th>2</th>\n",
       "      <td>634995</td>\n",
       "      <td>0</td>\n",
       "      <td>463</td>\n",
       "      <td>Source1</td>\n",
       "      <td>0</td>\n",
       "      <td>806</td>\n",
       "      <td>11.291045</td>\n",
       "      <td>1.0</td>\n",
       "      <td>70.495138</td>\n",
       "      <td>0</td>\n",
       "      <td>...</td>\n",
       "      <td>69.850580</td>\n",
       "      <td>0</td>\n",
       "      <td>0</td>\n",
       "      <td>0</td>\n",
       "      <td>0</td>\n",
       "      <td>0</td>\n",
       "      <td>133</td>\n",
       "      <td>2</td>\n",
       "      <td>24</td>\n",
       "      <td>Friday</td>\n",
       "    </tr>\n",
       "    <tr>\n",
       "      <th>3</th>\n",
       "      <td>634995</td>\n",
       "      <td>0</td>\n",
       "      <td>463</td>\n",
       "      <td>Source1</td>\n",
       "      <td>0</td>\n",
       "      <td>806</td>\n",
       "      <td>11.291045</td>\n",
       "      <td>1.0</td>\n",
       "      <td>70.495138</td>\n",
       "      <td>0</td>\n",
       "      <td>...</td>\n",
       "      <td>69.850580</td>\n",
       "      <td>7</td>\n",
       "      <td>0</td>\n",
       "      <td>3</td>\n",
       "      <td>7</td>\n",
       "      <td>-3</td>\n",
       "      <td>131</td>\n",
       "      <td>1</td>\n",
       "      <td>24</td>\n",
       "      <td>Friday</td>\n",
       "    </tr>\n",
       "    <tr>\n",
       "      <th>4</th>\n",
       "      <td>634995</td>\n",
       "      <td>0</td>\n",
       "      <td>463</td>\n",
       "      <td>Source1</td>\n",
       "      <td>0</td>\n",
       "      <td>806</td>\n",
       "      <td>11.291045</td>\n",
       "      <td>1.0</td>\n",
       "      <td>70.495138</td>\n",
       "      <td>0</td>\n",
       "      <td>...</td>\n",
       "      <td>69.850580</td>\n",
       "      <td>1</td>\n",
       "      <td>0</td>\n",
       "      <td>0</td>\n",
       "      <td>1</td>\n",
       "      <td>0</td>\n",
       "      <td>142</td>\n",
       "      <td>5</td>\n",
       "      <td>24</td>\n",
       "      <td>Monday</td>\n",
       "    </tr>\n",
       "    <tr>\n",
       "      <th>...</th>\n",
       "      <td>...</td>\n",
       "      <td>...</td>\n",
       "      <td>...</td>\n",
       "      <td>...</td>\n",
       "      <td>...</td>\n",
       "      <td>...</td>\n",
       "      <td>...</td>\n",
       "      <td>...</td>\n",
       "      <td>...</td>\n",
       "      <td>...</td>\n",
       "      <td>...</td>\n",
       "      <td>...</td>\n",
       "      <td>...</td>\n",
       "      <td>...</td>\n",
       "      <td>...</td>\n",
       "      <td>...</td>\n",
       "      <td>...</td>\n",
       "      <td>...</td>\n",
       "      <td>...</td>\n",
       "      <td>...</td>\n",
       "      <td>...</td>\n",
       "    </tr>\n",
       "    <tr>\n",
       "      <th>38853</th>\n",
       "      <td>7170111</td>\n",
       "      <td>70</td>\n",
       "      <td>497000</td>\n",
       "      <td>Source9</td>\n",
       "      <td>0</td>\n",
       "      <td>1881</td>\n",
       "      <td>497.200000</td>\n",
       "      <td>269.0</td>\n",
       "      <td>502.318385</td>\n",
       "      <td>0</td>\n",
       "      <td>...</td>\n",
       "      <td>490.821538</td>\n",
       "      <td>269</td>\n",
       "      <td>14</td>\n",
       "      <td>58</td>\n",
       "      <td>240</td>\n",
       "      <td>-44</td>\n",
       "      <td>12</td>\n",
       "      <td>1511</td>\n",
       "      <td>2</td>\n",
       "      <td>Wednesday</td>\n",
       "    </tr>\n",
       "    <tr>\n",
       "      <th>38854</th>\n",
       "      <td>7170111</td>\n",
       "      <td>70</td>\n",
       "      <td>497000</td>\n",
       "      <td>Source9</td>\n",
       "      <td>0</td>\n",
       "      <td>1881</td>\n",
       "      <td>497.200000</td>\n",
       "      <td>269.0</td>\n",
       "      <td>502.318385</td>\n",
       "      <td>0</td>\n",
       "      <td>...</td>\n",
       "      <td>490.821538</td>\n",
       "      <td>644</td>\n",
       "      <td>20</td>\n",
       "      <td>106</td>\n",
       "      <td>619</td>\n",
       "      <td>-86</td>\n",
       "      <td>149</td>\n",
       "      <td>1099</td>\n",
       "      <td>3</td>\n",
       "      <td>Wednesday</td>\n",
       "    </tr>\n",
       "    <tr>\n",
       "      <th>38855</th>\n",
       "      <td>7170111</td>\n",
       "      <td>70</td>\n",
       "      <td>497000</td>\n",
       "      <td>Source9</td>\n",
       "      <td>0</td>\n",
       "      <td>1881</td>\n",
       "      <td>497.200000</td>\n",
       "      <td>269.0</td>\n",
       "      <td>502.318385</td>\n",
       "      <td>0</td>\n",
       "      <td>...</td>\n",
       "      <td>490.821538</td>\n",
       "      <td>620</td>\n",
       "      <td>620</td>\n",
       "      <td>0</td>\n",
       "      <td>620</td>\n",
       "      <td>620</td>\n",
       "      <td>120</td>\n",
       "      <td>2962</td>\n",
       "      <td>24</td>\n",
       "      <td>Wednesday</td>\n",
       "    </tr>\n",
       "    <tr>\n",
       "      <th>38856</th>\n",
       "      <td>7170111</td>\n",
       "      <td>70</td>\n",
       "      <td>497000</td>\n",
       "      <td>Source9</td>\n",
       "      <td>0</td>\n",
       "      <td>1881</td>\n",
       "      <td>497.200000</td>\n",
       "      <td>269.0</td>\n",
       "      <td>502.318385</td>\n",
       "      <td>0</td>\n",
       "      <td>...</td>\n",
       "      <td>490.821538</td>\n",
       "      <td>629</td>\n",
       "      <td>189</td>\n",
       "      <td>440</td>\n",
       "      <td>588</td>\n",
       "      <td>-251</td>\n",
       "      <td>33</td>\n",
       "      <td>1383</td>\n",
       "      <td>9</td>\n",
       "      <td>Wednesday</td>\n",
       "    </tr>\n",
       "    <tr>\n",
       "      <th>38857</th>\n",
       "      <td>7170111</td>\n",
       "      <td>70</td>\n",
       "      <td>497000</td>\n",
       "      <td>Source9</td>\n",
       "      <td>0</td>\n",
       "      <td>1881</td>\n",
       "      <td>497.200000</td>\n",
       "      <td>269.0</td>\n",
       "      <td>502.318385</td>\n",
       "      <td>0</td>\n",
       "      <td>...</td>\n",
       "      <td>490.821538</td>\n",
       "      <td>975</td>\n",
       "      <td>263</td>\n",
       "      <td>712</td>\n",
       "      <td>960</td>\n",
       "      <td>-449</td>\n",
       "      <td>133</td>\n",
       "      <td>3732</td>\n",
       "      <td>9</td>\n",
       "      <td>Wednesday</td>\n",
       "    </tr>\n",
       "  </tbody>\n",
       "</table>\n",
       "<p>38858 rows × 38 columns</p>\n",
       "</div>"
      ],
      "text/plain": [
       "            X1  X2      X3       X4  X5    X6          X7     X8          X9  \\\n",
       "0       634995   0     463  Source1   0   806   11.291045    1.0   70.495138   \n",
       "1       634995   0     463  Source1   0   806   11.291045    1.0   70.495138   \n",
       "2       634995   0     463  Source1   0   806   11.291045    1.0   70.495138   \n",
       "3       634995   0     463  Source1   0   806   11.291045    1.0   70.495138   \n",
       "4       634995   0     463  Source1   0   806   11.291045    1.0   70.495138   \n",
       "...        ...  ..     ...      ...  ..   ...         ...    ...         ...   \n",
       "38853  7170111  70  497000  Source9   0  1881  497.200000  269.0  502.318385   \n",
       "38854  7170111  70  497000  Source9   0  1881  497.200000  269.0  502.318385   \n",
       "38855  7170111  70  497000  Source9   0  1881  497.200000  269.0  502.318385   \n",
       "38856  7170111  70  497000  Source9   0  1881  497.200000  269.0  502.318385   \n",
       "38857  7170111  70  497000  Source9   0  1881  497.200000  269.0  502.318385   \n",
       "\n",
       "       X10  ...         X29  X30  X31  X32  X33  X34  X35   X36  X37  \\\n",
       "0        0  ...   69.850580    0    0    0    0    0  166     2   24   \n",
       "1        0  ...   69.850580    0    0    0    0    0  132     1   24   \n",
       "2        0  ...   69.850580    0    0    0    0    0  133     2   24   \n",
       "3        0  ...   69.850580    7    0    3    7   -3  131     1   24   \n",
       "4        0  ...   69.850580    1    0    0    1    0  142     5   24   \n",
       "...    ...  ...         ...  ...  ...  ...  ...  ...  ...   ...  ...   \n",
       "38853    0  ...  490.821538  269   14   58  240  -44   12  1511    2   \n",
       "38854    0  ...  490.821538  644   20  106  619  -86  149  1099    3   \n",
       "38855    0  ...  490.821538  620  620    0  620  620  120  2962   24   \n",
       "38856    0  ...  490.821538  629  189  440  588 -251   33  1383    9   \n",
       "38857    0  ...  490.821538  975  263  712  960 -449  133  3732    9   \n",
       "\n",
       "             X38  \n",
       "0      Wednesday  \n",
       "1       Thursday  \n",
       "2         Friday  \n",
       "3         Friday  \n",
       "4         Monday  \n",
       "...          ...  \n",
       "38853  Wednesday  \n",
       "38854  Wednesday  \n",
       "38855  Wednesday  \n",
       "38856  Wednesday  \n",
       "38857  Wednesday  \n",
       "\n",
       "[38858 rows x 38 columns]"
      ]
     },
     "execution_count": 57,
     "metadata": {},
     "output_type": "execute_result"
    }
   ],
   "source": [
    "data_eval"
   ]
  },
  {
   "cell_type": "code",
   "execution_count": 58,
   "metadata": {},
   "outputs": [
    {
     "name": "stdout",
     "output_type": "stream",
     "text": [
      "            X1  X2      X3  X5    X6          X7     X8          X9  X10  \\\n",
      "0       634995   0     463   0   806   11.291045    1.0   70.495138    0   \n",
      "1       634995   0     463   0   806   11.291045    1.0   70.495138    0   \n",
      "2       634995   0     463   0   806   11.291045    1.0   70.495138    0   \n",
      "3       634995   0     463   0   806   11.291045    1.0   70.495138    0   \n",
      "4       634995   0     463   0   806   11.291045    1.0   70.495138    0   \n",
      "...        ...  ..     ...  ..   ...         ...    ...         ...  ...   \n",
      "38853  7170111  70  497000   0  1881  497.200000  269.0  502.318385    0   \n",
      "38854  7170111  70  497000   0  1881  497.200000  269.0  502.318385    0   \n",
      "38855  7170111  70  497000   0  1881  497.200000  269.0  502.318385    0   \n",
      "38856  7170111  70  497000   0  1881  497.200000  269.0  502.318385    0   \n",
      "38857  7170111  70  497000   0  1881  497.200000  269.0  502.318385    0   \n",
      "\n",
      "        X11  ...   76   77   78   79   80   81   82   83   84   85  \n",
      "0       806  ...  0.0  0.0  0.0  0.0  0.0  0.0  0.0  0.0  0.0  1.0  \n",
      "1       806  ...  0.0  0.0  0.0  0.0  0.0  0.0  0.0  1.0  0.0  0.0  \n",
      "2       806  ...  0.0  0.0  0.0  1.0  0.0  0.0  0.0  0.0  0.0  0.0  \n",
      "3       806  ...  0.0  0.0  0.0  1.0  0.0  0.0  0.0  0.0  0.0  0.0  \n",
      "4       806  ...  0.0  0.0  0.0  0.0  1.0  0.0  0.0  0.0  0.0  0.0  \n",
      "...     ...  ...  ...  ...  ...  ...  ...  ...  ...  ...  ...  ...  \n",
      "38853  1881  ...  0.0  0.0  0.0  0.0  0.0  0.0  0.0  0.0  0.0  1.0  \n",
      "38854  1881  ...  0.0  0.0  0.0  0.0  0.0  0.0  0.0  0.0  0.0  1.0  \n",
      "38855  1881  ...  0.0  0.0  0.0  0.0  0.0  0.0  0.0  0.0  0.0  1.0  \n",
      "38856  1881  ...  0.0  0.0  0.0  0.0  0.0  0.0  0.0  0.0  0.0  1.0  \n",
      "38857  1881  ...  0.0  0.0  0.0  0.0  0.0  0.0  0.0  0.0  0.0  1.0  \n",
      "\n",
      "[38858 rows x 122 columns]\n"
     ]
    }
   ],
   "source": [
    "from sklearn.preprocessing import OneHotEncoder\n",
    "\n",
    "# creating instance of one-hot-encoder\n",
    "encoder = OneHotEncoder(handle_unknown = 'ignore')\n",
    "\n",
    "# #perform one-hot encoding on 'team' column \n",
    "encoders = pd.DataFrame(encoder.fit_transform(data_eval[['X4', 'X38']]).toarray())\n",
    "\n",
    "# merge one-hot encoded columns back with original DataFrame\n",
    "data_eval_ = data_eval.join(encoders)\n",
    "data_eval_.drop(['X4', 'X38'], axis = 1, inplace = True)\n",
    "\n",
    "# view final df\n",
    "print(data_eval_)"
   ]
  },
  {
   "cell_type": "code",
   "execution_count": 59,
   "metadata": {},
   "outputs": [],
   "source": [
    "listes = data_eval_.iloc[:, 0:36].columns.to_list()"
   ]
  },
  {
   "cell_type": "code",
   "execution_count": 60,
   "metadata": {},
   "outputs": [],
   "source": [
    "noms = data_eval_.columns.tolist()"
   ]
  },
  {
   "cell_type": "code",
   "execution_count": 61,
   "metadata": {},
   "outputs": [],
   "source": [
    "from sklearn.preprocessing import StandardScaler\n",
    "from sklearn.compose import ColumnTransformer\n",
    "\n",
    "scaler_sd = ColumnTransformer([\n",
    "        ('scaler', StandardScaler(), listes)\n",
    "    ], remainder = 'passthrough')\n",
    "\n",
    "scaler_sd.fit(data_eval_)\n",
    "\n",
    "data_eval_scaled = pd.DataFrame(scaler_sd.transform(data_eval_))"
   ]
  },
  {
   "cell_type": "code",
   "execution_count": 62,
   "metadata": {},
   "outputs": [],
   "source": [
    "data_eval_scaled.columns = noms"
   ]
  },
  {
   "cell_type": "code",
   "execution_count": 63,
   "metadata": {},
   "outputs": [],
   "source": [
    "# data.eval = data_eval_([vars_select_lasso]).copy()\n",
    "data.eval_scaled = data_eval_scaled[vars_select_lasso].copy()"
   ]
  },
  {
   "cell_type": "code",
   "execution_count": 64,
   "metadata": {},
   "outputs": [],
   "source": [
    "predictions = svm_reg.predict(data.eval_scaled)"
   ]
  },
  {
   "cell_type": "code",
   "execution_count": 65,
   "metadata": {},
   "outputs": [],
   "source": [
    "pd.DataFrame(predictions).to_csv(r'id1912.csv', header=False, index=False)"
   ]
  }
 ],
 "metadata": {
  "kernelspec": {
   "display_name": "Python 3",
   "language": "python",
   "name": "python3"
  },
  "language_info": {
   "codemirror_mode": {
    "name": "ipython",
    "version": 3
   },
   "file_extension": ".py",
   "mimetype": "text/x-python",
   "name": "python",
   "nbconvert_exporter": "python",
   "pygments_lexer": "ipython3",
   "version": "3.8.5"
  }
 },
 "nbformat": 4,
 "nbformat_minor": 2
}
